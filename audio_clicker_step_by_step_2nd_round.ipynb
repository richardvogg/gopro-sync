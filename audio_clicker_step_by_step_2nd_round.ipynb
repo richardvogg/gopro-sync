{
 "cells": [
  {
   "cell_type": "code",
   "execution_count": 3,
   "id": "leading-rental",
   "metadata": {},
   "outputs": [],
   "source": [
    "from random import sample\n",
    "import subprocess\n",
    "\n",
    "import os\n",
    "import re\n",
    "import numpy as np\n",
    "import matplotlib.pyplot as plt\n",
    "from scipy.signal import find_peaks\n",
    "import subprocess\n",
    "from pathlib import Path\n",
    "from audio_clicker_helper import *"
   ]
  },
  {
   "cell_type": "code",
   "execution_count": null,
   "id": "recovered-clark",
   "metadata": {},
   "outputs": [],
   "source": [
    "#\"/usr/users/vogg/sfb1528s3/B06/2023april-july/NewBoxesClosed/\"\n",
    "\n",
    "path_to_files = \".../training/\"\n",
    "cameras = 'all' #'all' # #'all' or list of cameras [4,7] (also mention camera 7) \n",
    "tStart = 100\n",
    "tEnd2 = 230 # first 60 seconds of second video 200\n",
    "tEnd = 300 # up to second 100 of main video 280\n",
    "#which_file = 6 #find out in the cell below which files exist"
   ]
  },
  {
   "cell_type": "code",
   "execution_count": null,
   "id": "floating-newsletter",
   "metadata": {},
   "outputs": [],
   "source": [
    "cam2list = {1: 0, 2: 1, 3: 2, 4: 3, 6: 4, 7: 5, 8: 6, 9: 7}\n",
    "rootdir = Path(path_to_files)\n",
    "list_dirs = []\n",
    "\n",
    "\n",
    "print(os.listdir(rootdir))\n",
    "for path in os.listdir(rootdir):\n",
    "    if not path.startswith(\".\") and not path.startswith(\"Converted\"):\n",
    "        for subpath in os.listdir(rootdir / path):\n",
    "            if not subpath.startswith(\".\"):\n",
    "                list_dirs.append(rootdir / path / subpath)\n",
    " \n",
    "list_dirs.sort()\n",
    "\n",
    "for i in range(len(list_dirs)):\n",
    "    print(i, list_dirs[i])"
   ]
  },
  {
   "cell_type": "code",
   "execution_count": null,
   "id": "distant-inquiry",
   "metadata": {},
   "outputs": [],
   "source": [
    "which_file = 11\n",
    "experiment_number = 12\n",
    "input_path = list_dirs[which_file]\n",
    "group = input_path.parent.name\n",
    "print(group)\n",
    "group_letter = group[:1]\n",
    "print(group_letter)\n",
    "\n",
    "output_path = rootdir / \"Converted\" / group\n",
    "output_path.mkdir(parents=True, exist_ok=True)\n",
    "\n",
    "# from https://github.com/scuc/GoPro-Concat-Automation/blob/master/gopro_concat.py\n",
    "\n",
    "\n",
    "gopr_source_list = []\n",
    "gopr_key_list = []\n",
    "gopr_dict = {}\n",
    "\n",
    "file_list = sorted(os.listdir(input_path))\n",
    "file_list = [f for f in file_list if f.endswith(\".MP4\") and not f.startswith(\".\") and (not \"extra\" in f)]\n",
    "print(file_list)\n"
   ]
  },
  {
   "cell_type": "code",
   "execution_count": null,
   "id": "indian-meter",
   "metadata": {},
   "outputs": [],
   "source": [
    "# Which GoPro files belong together\n",
    "# file: GX010046_cam6.MP4 has to be stiched with GX020046_cam6.MP4---file: B_e_1_220918_c1_p1_2.MP4\n",
    "for file in file_list:\n",
    "    print(\"FILE: \" + file)\n",
    "    regex = r\"(GX01)\" #GX01 always exists, we use it as a key\n",
    "    gp = re.search(regex, file)\n",
    "    # print(gp)\n",
    "    if gp is not None:\n",
    "        gopr_key_list.append(file)\n",
    "    else:\n",
    "        pass\n",
    "\n",
    "print(\"GP KEY LIST: \" + str(gopr_key_list))\n",
    "#expected: ['B_e_1_220918_c1_p1_2.MP4', 'B_e_1_220918_c2_p1_2.MP4', 'B_e_1_220918_c3_p1_2.MP4'...]\n",
    "#(one file per go pro)\n"
   ]
  },
  {
   "cell_type": "code",
   "execution_count": 6,
   "id": "0d1e3867",
   "metadata": {},
   "outputs": [
    {
     "name": "stdout",
     "output_type": "stream",
     "text": [
      "{'GX010177_cam4.MP4': ['GX010177_cam4.MP4', 'GX020177_cam4.MP4', 'GX030177_cam4.MP4'], 'GX010183_cam1.MP4': ['GX010183_cam1.MP4', 'GX020183_cam1.MP4', 'GX030183_cam1.MP4'], 'GX010183_cam7.MP4': ['GX010183_cam7.MP4', 'GX020183_cam7.MP4', 'GX030183_cam7.MP4'], 'GX010188_cam6.MP4': ['GX010188_cam6.MP4', 'GX020188_cam6.MP4', 'GX030188_cam6.MP4'], 'GX010188_cam9.MP4': ['GX010188_cam9.MP4', 'GX020188_cam9.MP4', 'GX030188_cam9.MP4'], 'GX010202_cam3.MP4': ['GX010202_cam3.MP4', 'GX020202_cam3.MP4', 'GX030202_cam3.MP4'], 'GX010203_cam8.MP4': ['GX010203_cam8.MP4', 'GX020203_cam8.MP4', 'GX030203_cam8.MP4'], 'GX010216_cam2.MP4': ['GX010216_cam2.MP4', 'GX020216_cam2.MP4', 'GX030216_cam2.MP4']}\n"
     ]
    }
   ],
   "source": [
    "\n",
    "for file in gopr_key_list:\n",
    "    filenum = file[4:]\n",
    "    fstring = f\"(GX0\\\\d{{1}}{filenum})\"\n",
    "    r = re.compile(fstring)\n",
    "    gplist = list(filter(r.match, file_list))\n",
    "    gopr_dict.update({file:gplist})\n",
    "\n",
    "print(gopr_dict)\n",
    "# expected: {'GX010044_cam9.MP4': ['GX010044_cam9.MP4', 'GX020044_cam9.MP4'],...}\n",
    "# expected: {'B_e_1_220918_c1_p1_2.MP4': ['B_e_1_220918_c1_p1_2.MP4', 'B_e_1_220918_c1_p2_2.MP4'], ...}\n"
   ]
  },
  {
   "cell_type": "code",
   "execution_count": null,
   "id": "3ab1f151",
   "metadata": {},
   "outputs": [],
   "source": [
    "\n",
    "if cameras != \"all\":\n",
    "    #gopr_dict = {list(gopr_dict)[cam2list[k]]: gopr_dict[list(gopr_dict)[cam2list[k]]] for k in cameras}\n",
    "    #find the cameras with cam4 if 4 is in the list with cameras\n",
    "    gopr_dict = {key: value for key, value in gopr_dict.items() if any(f'_cam{camera}' in key for camera in cameras)}\n",
    "    print(gopr_dict)\n",
    "\n",
    "#Read the dictionary and create txt files which contains files which belong together\n",
    "for key in gopr_dict:\n",
    "    camera = key[-5]\n",
    "    print(camera)\n",
    "\n",
    "    gpr_txt_path = output_path / ('cam' + camera + '.txt')\n",
    "    print(gpr_txt_path.exists())\n",
    "    if gpr_txt_path.exists() is True:\n",
    "        print(\"PASS on TXT FILE\")\n",
    "        pass\n",
    "    else:\n",
    "        gpr_sources_txt = open(gpr_txt_path, 'a')\n",
    "\n",
    "        gprfile_list = sorted(gopr_dict[key])\n",
    "        for file in gprfile_list:\n",
    "            file_stmnt = \"file \" + '\\'' + str(input_path / file) + '\\'\\n'\n",
    "            gpr_sources_txt.write(file_stmnt)\n",
    "\n",
    "        gpr_sources_txt.close()\n",
    "        \n",
    "        \n",
    "    #Join videos which come from the same camera\n",
    "    mp4_output = output_path / (f'{group_letter}_e{experiment_number}_c{camera}_joined.MP4')\n",
    "    if mp4_output.exists():\n",
    "        print(\"PASS on joined files\")\n",
    "        pass\n",
    "    else:\n",
    "        ffmpeg_cmd = [\n",
    "                                'ffmpeg', '-safe', '0', '-f', 'concat',  '-i',\n",
    "                                gpr_txt_path, '-c', 'copy',\n",
    "                            mp4_output\n",
    "                            ]\n",
    "        #ffmpeg_cmd = [\n",
    "        #    'ffmpeg', '-analyzeduration', '100M', '-probesize', '50M', '-safe', '0', '-f', 'concat', '-i',\n",
    "        #    gpr_txt_path, '-vf', 'scale=1920:1080', '-c:v', 'libx264', '-crf', '23', '-preset', 'medium',\n",
    "        #    '-c:a', 'aac', '-b:a', '192k',\n",
    "        #    mp4_output\n",
    "        #]\n",
    "\n",
    "        subprocess.call(ffmpeg_cmd, shell=False)\n",
    "\n"
   ]
  },
  {
   "cell_type": "code",
   "execution_count": null,
   "id": "distinct-utility",
   "metadata": {},
   "outputs": [],
   "source": [
    "#path = \"/Users/vogg/Documents/Videos/Lemurs/MadagascarTempVideos/Group_B/Full/\"\n",
    "file_list = sorted(os.listdir(output_path))\n",
    "file_list = [f for f in file_list if f.endswith(\"joined.MP4\")]\n",
    "print(file_list)"
   ]
  },
  {
   "cell_type": "code",
   "execution_count": null,
   "id": "informed-relative",
   "metadata": {},
   "outputs": [],
   "source": [
    "## extract audio files from joined videos\n",
    "\n",
    "for file in file_list:\n",
    "\n",
    "    if os.path.isfile(output_path / (file[:-4] + \".wav\")):\n",
    "        pass\n",
    "\n",
    "    else:\n",
    "        \n",
    "\n",
    "        ffmpeg_cmd = [\n",
    "                    'ffmpeg', '-i', output_path / file, '-ab', '160k', '-ac', '2',\n",
    "                    '-ar', '44100', '-vn', output_path / (file[:-4] + \".wav\")\n",
    "                    ]\n",
    "        \n",
    "        #ffmpeg_cmd = [\n",
    "        #'ffmpeg', '-err_detect', 'ignore_err', '-i', str(output_path / file), \n",
    "        #'-ab', '160k', '-ac', '2', '-ar', '44100', '-vn', str(output_path / (file[:-4] + \".wav\"))\n",
    "        #]\n",
    "\n",
    "        subprocess.call(ffmpeg_cmd, #was Popen\n",
    "                            shell=False)"
   ]
  },
  {
   "cell_type": "code",
   "execution_count": 8,
   "id": "noticed-testimony",
   "metadata": {},
   "outputs": [
    {
     "name": "stdout",
     "output_type": "stream",
     "text": [
      "Anchor video:  5\n"
     ]
    }
   ],
   "source": [
    "\n",
    "\n",
    "\n",
    "anchor_video_idx = [idx for idx, s in enumerate(file_list) if 'c7' in s][0]\n",
    "print(\"Anchor video: \", anchor_video_idx)\n",
    "\n",
    "channels, nChannels, sampleRate, ampWidth, nFrames = extract_audio(str(output_path / (file_list[anchor_video_idx][:-4] + \".wav\")), \n",
    "                                                                   tStart, tEnd)\n",
    "samples = convert_to_mono(channels, nChannels, np.int16)\n",
    "\n",
    "\n",
    "samples = samples[::100]\n",
    "\n",
    "\n",
    "\n",
    "#plot_audio_samples(\"Clicker Training\", samples, sampleRate, tStart, tEnd)"
   ]
  },
  {
   "cell_type": "markdown",
   "id": "inappropriate-violence",
   "metadata": {},
   "source": [
    "### Audio matching: Find the time difference\n",
    "\n",
    "Creates a black (empty) video of the corresponding length."
   ]
  },
  {
   "cell_type": "code",
   "execution_count": null,
   "id": "italic-asset",
   "metadata": {},
   "outputs": [],
   "source": [
    "for idx, item in enumerate(file_list):\n",
    "    if idx != anchor_video_idx:\n",
    "        channels2, nChannels2, sampleRate2, ampWidth2, nFrames2 = extract_audio(str(output_path / (file_list[idx][:-4] + \".wav\")), tStart, tEnd2)\n",
    "        samples2 = convert_to_mono(channels2, nChannels2, np.int16)\n",
    "\n",
    "        samples2 = samples2[::100]\n",
    "        print(\"Processing video: \", idx, item)\n",
    "        print(len(samples2))\n",
    "        print(sampleRate)\n",
    "\n",
    "        #abs_diff = np.correlate(samples, samples2)\n",
    "        abs_diff = get_abs_diff(samples, samples2)\n",
    "\n",
    "        peaks, properties = find_peaks(-np.array(abs_diff), prominence = 5000, width = (0,40), wlen = 40)\n",
    "        sorted_prominences = sorted(zip(properties['prominences'], peaks), key=lambda x: x[0], reverse=True)\n",
    "        max_element, corresponding_element = sorted_prominences[0] #should be 0 normally\n",
    "        #max_element, corresponding_element = max(zip(properties['prominences'], peaks), key=lambda x: x[0])\n",
    "        delay_s = round(corresponding_element/(sampleRate/100), 3)\n",
    "        delay_frames = round(corresponding_element/(sampleRate/100) * 30)\n",
    "\n",
    "        plt.figure()\n",
    "        plt.plot(range(len(abs_diff)), abs_diff)\n",
    "        plt.plot(corresponding_element, np.array(abs_diff)[corresponding_element], \"x\")\n",
    "        plt.savefig(path_to_files +\"Converted/\"+ item[:-11]+'.png')\n",
    "        plt.close()\n",
    "        #delay_s = round(np.argmin(abs_diff)/(sampleRate/100), 3)\n",
    "        #delay_frames = round(np.argmin(abs_diff)/(sampleRate/100) * 30)\n",
    "        print(str(delay_s) + \"s = \" + str(delay_frames) + \" frames\")\n",
    "        ## Add black frames to beginning of video\n",
    "        #https://video.stackexchange.com/questions/20717/ffmpeg-add-3-seconds-of-black-to-video-head-and-tail\n",
    "        ffmpeg_cmd = [\n",
    "                            'ffmpeg', '-y', '-i', output_path / file_list[idx], '-vf', 'trim=0:'+str(delay_s)+',geq=0:128:128', \n",
    "                            '-af', 'atrim=0:'+ str(delay_s) + ',volume=0',\n",
    "                            '-video_track_timescale', '600', output_path / (\"blank\" + str(idx) + \".mp4\")\n",
    "                            ]\n",
    "\n",
    "        subprocess.run(ffmpeg_cmd, shell=False)\n"
   ]
  },
  {
   "cell_type": "markdown",
   "id": "lined-adoption",
   "metadata": {},
   "source": [
    "### Join the blank videos with the original videos"
   ]
  },
  {
   "cell_type": "code",
   "execution_count": null,
   "id": "common-grill",
   "metadata": {},
   "outputs": [],
   "source": [
    "for idx, item in enumerate(file_list):\n",
    "    if idx != anchor_video_idx:        \n",
    "        ffmpeg_cmd = [\n",
    "                        'ffmpeg', '-y', '-i', output_path / (\"blank\" + str(idx) + \".mp4\"), '-i', output_path / file_list[idx], \n",
    "                        '-filter_complex', '[0:v]fps=fps=30[video0];[1:v]fps=fps=30[video1];[video0][0:a:0][video1][1:a:0]concat=n=2:v=1:a=1[outv][outa]', #'[0:v:0][0:a:0][1:v:0][1:a:0]concat=n=2:v=1:a=1[outv][outa]', \n",
    "                        '-map', \"[outv]\", '-map', \"[outa]\",\n",
    "                        output_path / (item[:-11] + \".mp4\")\n",
    "                            ]\n",
    "\n",
    "\n",
    "        subprocess.run(ffmpeg_cmd, shell=False)"
   ]
  },
  {
   "cell_type": "markdown",
   "id": "hairy-soviet",
   "metadata": {},
   "source": [
    "### Convert the anchor video (cam7)"
   ]
  },
  {
   "cell_type": "code",
   "execution_count": null,
   "id": "western-deadline",
   "metadata": {},
   "outputs": [],
   "source": [
    "#print(output_path + file_list[anchor_video_idx])\n",
    "\n",
    "ffmpeg_cmd = [\n",
    "                        'ffmpeg', '-y','-i', output_path / file_list[anchor_video_idx], \n",
    "                        '-filter_complex', '[0:v:0][0:a:0]concat=n=1:v=1:a=1[outv][outa]', \n",
    "                        '-map', \"[outv]\", '-map', \"[outa]\",\n",
    "                        output_path / (file_list[anchor_video_idx][:-11] + \".mp4\")\n",
    "                        ]\n",
    "\n",
    "\n",
    "subprocess.run(ffmpeg_cmd, shell=False)"
   ]
  },
  {
   "cell_type": "code",
   "execution_count": 11,
   "id": "greater-continuity",
   "metadata": {},
   "outputs": [],
   "source": [
    "## Remove all files that are not used anymore\n",
    "\n",
    "for fname in os.listdir(output_path):\n",
    "    if \"cam\" in fname:\n",
    "        os.remove(os.path.join(output_path, fname))\n",
    "\n",
    "for fname in os.listdir(output_path):\n",
    "    if fname.startswith(\"blank\") or (\"joined\" in fname):\n",
    "        os.remove(os.path.join(output_path, fname))\n",
    "              \n",
    "\n",
    "     "
   ]
  }
 ],
 "metadata": {
  "kernelspec": {
   "display_name": "mktrack",
   "language": "python",
   "name": "python3"
  },
  "language_info": {
   "codemirror_mode": {
    "name": "ipython",
    "version": 3
   },
   "file_extension": ".py",
   "mimetype": "text/x-python",
   "name": "python",
   "nbconvert_exporter": "python",
   "pygments_lexer": "ipython3",
   "version": "3.8.17"
  }
 },
 "nbformat": 4,
 "nbformat_minor": 5
}
